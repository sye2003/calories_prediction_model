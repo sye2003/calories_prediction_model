main.ipynb:
{
    "cells": [
        {
            "cell_type": "code",
            "id": "#VSC-5d0ac024",
            "metadata": {
                "language": "python"
            },
            "source": [
                "import pandas as pd",
                "from sklearn.linear_model import LinearRegression",
                "from sklearn.model_selection import train_test_split",
                "import matplotlib.pyplot as plt",
                "df=pd.read_csv(\"data.csv\")",
                "df.dropna(inplace=True)  # Ensure no missing values",
                "#df.head()",
                "X = df[[\"Duration\", \"Pulse\", \"Maxpulse\"]]",
                "y = df[\"Calories\"]",
                "model = LinearRegression()",
                "X_train, X_test, y_train, y_test = train_test_split(X, y, test_size=0.2, random_state=42)",
                "model.fit(X_train, y_train)",
                "",
                "model.predict(X_test)",
                "score = model.score(X_test, y_test)",
                "# score",
                "# X_test.shape",
                "model.predict(pd.DataFrame([[60, 108, 131]], columns=[\"Duration\", \"Pulse\", \"Maxpulse\"]))",
                "plt.scatter(X_test[\"Duration\"], y_test, color='blue', label='Actual')",
                "plt.scatter(X_test[\"Duration\"], model.predict(X_test), color='red', label='Predicted')",
                "plt.xlabel(\"Duration\")",
                "plt.ylabel(\"Calories\")",
                "plt.title(\"Actual vs Predicted Calories\")",
                "plt.legend()",
                "plt.show()",
                ""
            ]
        }
    ]
}